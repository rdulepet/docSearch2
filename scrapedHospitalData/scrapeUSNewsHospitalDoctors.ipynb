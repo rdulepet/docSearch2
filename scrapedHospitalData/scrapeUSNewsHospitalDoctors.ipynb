{
 "cells": [
  {
   "cell_type": "code",
   "execution_count": null,
   "id": "0f07dcf9",
   "metadata": {},
   "outputs": [],
   "source": [
    "import pandas as pd\n",
    "import time\n",
    "from selenium import webdriver\n",
    "from selenium.webdriver.chrome.options import Options\n",
    "from selenium.webdriver.common.action_chains import ActionChains\n",
    "from selenium.webdriver.support.ui import WebDriverWait\n",
    "from selenium.webdriver.common.by import By\n",
    "from selenium.webdriver.support import expected_conditions as EC\n",
    "\n",
    "from selenium.webdriver.common.by import By\n",
    "\n",
    "from os import path, rename\n",
    "import shutil\n",
    "import re\n",
    "import random\n",
    "import webbrowser\n"
   ]
  },
  {
   "cell_type": "code",
   "execution_count": null,
   "id": "8f00fb2f",
   "metadata": {},
   "outputs": [],
   "source": [
    "# Scrape Name of hospital and Link\n",
    "# //h2/a\n",
    "# Scrape Location\n",
    "# //section/div/div/div[*]/p"
   ]
  },
  {
   "cell_type": "code",
   "execution_count": null,
   "id": "31a4bdaf",
   "metadata": {},
   "outputs": [],
   "source": [
    "# treat empty strings and np.nan as NAm will impact dropna method\n",
    "pd.options.mode.use_inf_as_na = True\n",
    "# set Jupyter to display all output from a cell\n",
    "from IPython.core.interactiveshell import InteractiveShell\n",
    "InteractiveShell.ast_node_interactivity = 'all'\n",
    "MAX_USER_PROFILES = 30"
   ]
  },
  {
   "cell_type": "code",
   "execution_count": null,
   "id": "dc7df936",
   "metadata": {},
   "outputs": [],
   "source": [
    "df_allDocDetails = pd.read_csv(\"df_allDocDetails_complete.csv\")\n",
    "\n",
    "df_allDocDetails.shape\n",
    "df_allDocDetails.drop_duplicates(inplace=True)\n",
    "df_allDocDetails.shape\n",
    "COMPLETED_URLS = list(set(list(df_allDocDetails.URL.values)))\n",
    "len(COMPLETED_URLS)\n",
    "with open('EXCEPTION_URLS.txt', 'r') as filehandle:\n",
    "    EXCEPTION_URLS = [current_place.rstrip() for current_place in filehandle.readlines()]\n",
    "len(EXCEPTION_URLS)\n",
    "with open('NO_DATA_URLS.txt', 'r') as filehandle:\n",
    "    NO_DATA_URLS = [current_place.rstrip() for current_place in filehandle.readlines()]\n",
    "len(NO_DATA_URLS)\n"
   ]
  },
  {
   "cell_type": "code",
   "execution_count": null,
   "id": "79fa9b5c",
   "metadata": {},
   "outputs": [],
   "source": [
    "EXCEPTION_URLS = list(set(EXCEPTION_URLS).difference(set(COMPLETED_URLS)))\n",
    "EXCEPTION_URLS = list(set(EXCEPTION_URLS).difference(set(NO_DATA_URLS)))\n",
    "\n",
    "len(EXCEPTION_URLS)\n"
   ]
  },
  {
   "cell_type": "code",
   "execution_count": null,
   "id": "56417d38",
   "metadata": {},
   "outputs": [],
   "source": []
  },
  {
   "cell_type": "code",
   "execution_count": null,
   "id": "f95f9410",
   "metadata": {},
   "outputs": [],
   "source": [
    "#data_dir = './sampleAppExtension/usNews/rankingData/'\n",
    "#download_dir = '/Users/rajivdulepet/Downloads/usNews/adultDoctorData/'\n",
    "#results_dir = './sampleAppExtension/usNews/adultDoctorData/'\n",
    "#results_dir = './sampleAppExtension/usNews/childrenDoctorData/'\n",
    "#results\n",
    "#download_file = download_dir + 'data.txt'\n",
    "results_dir = './results/'\n"
   ]
  },
  {
   "cell_type": "code",
   "execution_count": null,
   "id": "5330234b",
   "metadata": {},
   "outputs": [],
   "source": [
    "Cancer_AdultHospitalRanking = './Cancer_AdultHospitalRanking.json'\n",
    "All_ChildrenHospital =  './All_ChildrenHospital.json'\n",
    "Cancer_ChildrenHospitalRanking = './Cancer_ChildrenHospitalRanking.csv'"
   ]
  },
  {
   "cell_type": "code",
   "execution_count": null,
   "id": "4bd1d8cd",
   "metadata": {},
   "outputs": [],
   "source": [
    "df_Cancer_AdultHospitalRanking = pd.read_json(Cancer_AdultHospitalRanking)\n",
    "df_All_ChildrenHospital = pd.read_json(All_ChildrenHospital)\n",
    "df_Cancer_ChildrenHospitalRanking = pd.read_csv(Cancer_ChildrenHospitalRanking)\n"
   ]
  },
  {
   "cell_type": "code",
   "execution_count": null,
   "id": "e604fc92",
   "metadata": {},
   "outputs": [],
   "source": [
    "df_Cancer_AdultHospitalRanking['Ranking'] = df_Cancer_AdultHospitalRanking.index + 1\n",
    "df_Cancer_ChildrenHospitalRanking['Ranking'] = df_Cancer_ChildrenHospitalRanking.index + 1"
   ]
  },
  {
   "cell_type": "code",
   "execution_count": null,
   "id": "9f9af061",
   "metadata": {},
   "outputs": [],
   "source": [
    "df_Cancer_ChildrenHospitalRanking['Link'] =  'https://health.usnews.com' + df_Cancer_ChildrenHospitalRanking['Link']"
   ]
  },
  {
   "cell_type": "code",
   "execution_count": null,
   "id": "14faa73b",
   "metadata": {},
   "outputs": [],
   "source": [
    "len(set(list(df_Cancer_ChildrenHospitalRanking.Link.values)).difference(set(list(df_All_ChildrenHospital.Link.values))))\n",
    "\n"
   ]
  },
  {
   "cell_type": "code",
   "execution_count": null,
   "id": "3811134e",
   "metadata": {},
   "outputs": [],
   "source": [
    "df_allDocDetails['Hospital Link'] = df_allDocDetails['URL'].str.replace('/doctors', '')\n"
   ]
  },
  {
   "cell_type": "code",
   "execution_count": null,
   "id": "5fe64fba",
   "metadata": {},
   "outputs": [],
   "source": [
    "df_allDocDetails.columns\n",
    "df_Cancer_ChildrenHospitalRanking.columns\n",
    "df_Cancer_AdultHospitalRanking.columns"
   ]
  },
  {
   "cell_type": "code",
   "execution_count": null,
   "id": "4ed6b1d9",
   "metadata": {},
   "outputs": [],
   "source": [
    "df_Cancer_ChildrenHospitalRanking.columns = ['Hospital', 'Hospital Link', 'Location', 'Ranking']\n",
    "df_Cancer_AdultHospitalRanking.columns = ['Hospital', 'Hospital Link', 'Location', 'Ranking']\n",
    "df_allDocDetails.rename(columns={'URL':'Doctors Link'}, inplace=True)"
   ]
  },
  {
   "cell_type": "code",
   "execution_count": null,
   "id": "04b6de21",
   "metadata": {},
   "outputs": [],
   "source": [
    "df_allDocDetails.columns\n",
    "df_Cancer_ChildrenHospitalRanking.columns\n",
    "df_Cancer_AdultHospitalRanking.columns"
   ]
  },
  {
   "cell_type": "code",
   "execution_count": null,
   "id": "4e8e4201",
   "metadata": {},
   "outputs": [],
   "source": [
    "df_Cancer_ChildrenHospitalRanking['Type'] = 'Chidren'\n",
    "df_Cancer_AdultHospitalRanking['Type'] = 'Adult'\n"
   ]
  },
  {
   "cell_type": "code",
   "execution_count": null,
   "id": "916efab2",
   "metadata": {},
   "outputs": [],
   "source": [
    "df_allDocDetails = pd.merge(df_allDocDetails, \n",
    "                            df_Cancer_AdultHospitalRanking, \n",
    "                            left_on=['Hospital Link'], \n",
    "                            right_on=['Hospital Link'], \n",
    "                            how='left')\n"
   ]
  },
  {
   "cell_type": "code",
   "execution_count": null,
   "id": "a0d8ea1c",
   "metadata": {},
   "outputs": [],
   "source": [
    "df_allDocDetails.columns"
   ]
  },
  {
   "cell_type": "code",
   "execution_count": null,
   "id": "999bfb6c",
   "metadata": {},
   "outputs": [],
   "source": [
    "df_allDocDetails.drop(columns=['Hospital_y', 'Location_y'], inplace=True)\n",
    "df_allDocDetails.rename(columns={'Hospital_x':'Hospital', 'Location_x':'Location'}, inplace=True)\n",
    "\n",
    "df_allDocDetails.columns"
   ]
  },
  {
   "cell_type": "code",
   "execution_count": null,
   "id": "dae93b96",
   "metadata": {},
   "outputs": [],
   "source": []
  },
  {
   "cell_type": "code",
   "execution_count": null,
   "id": "d44c5e60",
   "metadata": {},
   "outputs": [],
   "source": [
    "df_allDocDetails = pd.merge(df_allDocDetails, df_Cancer_ChildrenHospitalRanking, left_on=['Hospital Link'], right_on=['Hospital Link'], how='left')\n"
   ]
  },
  {
   "cell_type": "code",
   "execution_count": null,
   "id": "5d69342c",
   "metadata": {},
   "outputs": [],
   "source": [
    "df_allDocDetails.columns"
   ]
  },
  {
   "cell_type": "code",
   "execution_count": null,
   "id": "b5783f07",
   "metadata": {},
   "outputs": [],
   "source": [
    "df_allDocDetails.drop(columns=['Hospital_y', 'Location_y'], inplace=True)\n",
    "df_allDocDetails.rename(columns={'Hospital_x':'Hospital', 'Location_x':'Location'}, inplace=True)\n",
    "\n",
    "df_allDocDetails.columns"
   ]
  },
  {
   "cell_type": "code",
   "execution_count": null,
   "id": "edc82665",
   "metadata": {},
   "outputs": [],
   "source": [
    "df_allDocDetails['Ranking_x'] = df_allDocDetails.apply(lambda row: row['Ranking_y'] if pd.notna(row['Ranking_y']) else row['Ranking_x'], axis=1)\n"
   ]
  },
  {
   "cell_type": "code",
   "execution_count": null,
   "id": "5c4499f6",
   "metadata": {},
   "outputs": [],
   "source": []
  },
  {
   "cell_type": "code",
   "execution_count": null,
   "id": "b254453b",
   "metadata": {},
   "outputs": [],
   "source": [
    "df_allDocDetails.drop(columns=['Ranking_y'], inplace=True)\n",
    "df_allDocDetails.rename(columns={'Ranking_x':'Ranking'}, inplace=True)\n",
    "\n",
    "df_allDocDetails.columns"
   ]
  },
  {
   "cell_type": "code",
   "execution_count": null,
   "id": "6762adb1",
   "metadata": {},
   "outputs": [],
   "source": [
    "df_allDocDetails['Type_x'] = df_allDocDetails.apply(lambda row: row['Type_y'] if pd.notna(row['Type_y']) else row['Type_x'], axis=1)\n",
    "df_allDocDetails.drop(columns=['Type_y'], inplace=True)\n",
    "df_allDocDetails.rename(columns={'Type_x':'Type'}, inplace=True)\n",
    "df_allDocDetails.columns\n"
   ]
  },
  {
   "cell_type": "code",
   "execution_count": null,
   "id": "ee28c95a",
   "metadata": {},
   "outputs": [],
   "source": [
    "df_allDocDetails[df_allDocDetails.Ranking==913].Hospital.unique()"
   ]
  },
  {
   "cell_type": "code",
   "execution_count": null,
   "id": "cee843fa",
   "metadata": {},
   "outputs": [],
   "source": [
    "df_allDocDetails.to_csv('df_allDocDetails_with_ranking.csv', index=False)\n"
   ]
  },
  {
   "cell_type": "code",
   "execution_count": null,
   "id": "5f75bc0e",
   "metadata": {},
   "outputs": [],
   "source": [
    "df_allDocDetails = df_allDocDetails[pd.notna(df_allDocDetails['Ranking'])]\n",
    "df_allDocDetails['Ranking'] = df_allDocDetails['Ranking'].apply(lambda x: int(x) if pd.notna(x) else None)"
   ]
  },
  {
   "cell_type": "code",
   "execution_count": null,
   "id": "492292f0",
   "metadata": {},
   "outputs": [],
   "source": [
    "df_allDocDetails[df_allDocDetails.Ranking==914]['Hospital'].unique()"
   ]
  },
  {
   "cell_type": "code",
   "execution_count": null,
   "id": "a9da43f3",
   "metadata": {},
   "outputs": [],
   "source": [
    "df_allDocDetails[pd.notna(df_allDocDetails.Ranking)].to_csv('df_allDocDetails_with_cancer_ranking.csv', index=False)\n"
   ]
  },
  {
   "cell_type": "code",
   "execution_count": null,
   "id": "9125beac",
   "metadata": {},
   "outputs": [],
   "source": [
    "df_allDocDetails = pd.read_csv('df_allDocDetails_with_cancer_ranking.csv')\n",
    "df_allDocDetails.shape\n",
    "df_allDocDetails.columns\n",
    "df_allDocDetails[df_allDocDetails.Ranking==1].Hospital.unique()\n",
    "df_allDocDetails[df_allDocDetails.Ranking==50].Hospital.unique()\n",
    "df_allDocDetails[df_allDocDetails.Ranking==95].Hospital.unique()\n",
    "df_allDocDetails[df_allDocDetails.Ranking==913].Hospital.unique()"
   ]
  },
  {
   "cell_type": "code",
   "execution_count": null,
   "id": "81babb20",
   "metadata": {},
   "outputs": [],
   "source": [
    "chrome_options = Options()\n",
    "chrome_options.add_experimental_option(\"debuggerAddress\", \"127.0.0.1:9222\")\n",
    "#Change chrome driver path accordingly\n",
    "chrome_driver = \"chromedriver\"\n",
    "driver = webdriver.Chrome(chrome_driver, chrome_options=chrome_options)\n",
    "\n",
    "#time.sleep(2)\n",
    "driver.execute_script(\"window.open('');\")\n",
    "time.sleep(2)\n"
   ]
  },
  {
   "cell_type": "code",
   "execution_count": null,
   "id": "bbbaeb81",
   "metadata": {},
   "outputs": [],
   "source": [
    "from selenium.webdriver.common.action_chains import ActionChains\n",
    "from selenium.webdriver.common.keys import Keys\n",
    "import time\n",
    "\n",
    "def delete_cache(pageDriver):\n",
    "    pageDriver.switch_to.window(pageDriver.window_handles[1])\n",
    "    time.sleep(2)\n",
    "    pageDriver.get('chrome://settings/clearBrowserData') # for old chromedriver versions use cleardriverData\n",
    "    time.sleep(2)\n",
    "    actions = ActionChains(pageDriver) \n",
    "    actions.send_keys(Keys.TAB * 9 + Keys.DOWN * 9 + Keys.ENTER) # send right combination\n",
    "    actions.perform()\n",
    "    #time.sleep(2)\n",
    "    #actions = ActionChains(pageDriver) \n",
    "    #actions.send_keys(Keys.TAB * 4 + Keys.ENTER) # confirm\n",
    "    #actions.perform()\n",
    "    #time.sleep(5) # wait some time to finish\n",
    "    #pageDriver.close() # close this tab\n",
    "    time.sleep(5) # wait some time to finish\n",
    "    pageDriver.switch_to.window(pageDriver.window_handles[0]) # switch back\n",
    "    time.sleep(2)\n",
    "\n",
    "#delete_cache()\n"
   ]
  },
  {
   "cell_type": "code",
   "execution_count": null,
   "id": "5ad6e628",
   "metadata": {},
   "outputs": [],
   "source": [
    "def loadMainHospitalDoctorPage(pageDriver, url):\n",
    "    pageDriver.switch_to.window(pageDriver.window_handles[1])\n",
    "    time.sleep(3)\n",
    "    pageDriver.get(url)\n",
    "    time.sleep(3)\n"
   ]
  },
  {
   "cell_type": "code",
   "execution_count": null,
   "id": "eb8c5991",
   "metadata": {},
   "outputs": [],
   "source": [
    "def loadAllDoctorsPages(pageDriver):\n",
    "    #pageDriver.switch_to.window(driver.window_handles[1])\n",
    "    #time.sleep(3)\n",
    "    # keep loading more until everything is loaded on page\n",
    "    while (True):\n",
    "        #buttons = pageDriver.find_elements(By.XPATH, '//*[contains(text(), \"Load More\")]')\n",
    "        buttons = WebDriverWait(pageDriver, 20).until(EC.visibility_of_all_elements_located((By.XPATH, '//*[contains(text(), \"Load More\")]')))\n",
    "        if len(buttons) > 1:\n",
    "            pageDriver.execute_script(\"arguments[0].scrollIntoView();\", buttons[0])\n",
    "            time.sleep(3)\n",
    "            pageDriver.execute_script(\"arguments[0].click();\", buttons[0])\n",
    "            time.sleep(3)\n",
    "            \n",
    "            foundLoadMoreError = False\n",
    "            try:\n",
    "                loadMoreError = pageDriver.find_element(By.CSS_SELECTOR, '[class*=message-box__Icon]').find_elements(By.XPATH, './/span')\n",
    "                foundLoadMoreError = True\n",
    "            except:\n",
    "                foundLoadMoreError = False\n",
    "                pass\n",
    "            finally:\n",
    "                if foundLoadMoreError:\n",
    "                    raise\n",
    "        else:\n",
    "            break"
   ]
  },
  {
   "cell_type": "code",
   "execution_count": null,
   "id": "133a2acd",
   "metadata": {},
   "outputs": [],
   "source": [
    "def extractDoctorsData(pageDriver):\n",
    "    #pageDriver.switch_to.window(driver.window_handles[1])\n",
    "    #time.sleep(3)\n",
    "    hospitalName = pageDriver.find_element(By.XPATH, '//h1').text\n",
    "    hospitalName = re.sub(r'\\s+Doctors$', '', hospitalName)\n",
    "    \n",
    "    locationElement = pageDriver.find_element(By.XPATH, './/div[contains(@class, \"Villain__Content\")]').find_element(By.XPATH, './/p[contains(@class, \"Paragraph-sc\")]')\n",
    "    location = locationElement.text\n",
    "    location = re.sub(r'\\s*\\|.*', '', location)\n",
    "    \n",
    "    allDoctors = pageDriver.find_elements(By.CSS_SELECTOR, '[data-test-id=DetailCardDoctor]')\n",
    "    \n",
    "    docAllRecords = []\n",
    "    \n",
    "    for doc in allDoctors:\n",
    "        docName = doc.find_element(By.XPATH, './/h2').text\n",
    "        \n",
    "        \n",
    "        specialitiesElements = doc.find_element(By.CSS_SELECTOR, '[class*=DetailCardDoctor__Wrapper]').find_elements(By.XPATH, './/p');\n",
    "        broader_speciality = ''\n",
    "        specific_specialities = []\n",
    "        \n",
    "        # specialities\n",
    "        if len(specialitiesElements) > 1:\n",
    "            broader_speciality = specialitiesElements[0].text\n",
    "            \n",
    "            specialityContent = specialitiesElements[1].text\n",
    "            individualSpecialities = specialityContent.split(',')\n",
    "            individualSpecialities = [x.strip() for x in individualSpecialities]\n",
    "            specific_specialities.extend(individualSpecialities)\n",
    "        elif len(specialitiesElements) == 1:\n",
    "            broader_speciality = specialitiesElements[0].text\n",
    "        \n",
    "        bio = doc.find_element(By.CSS_SELECTOR, 'p.sm-hide').text\n",
    "        \n",
    "        docRecord = {\n",
    "            'URL': pageDriver.current_url, \n",
    "            'Hospital': hospitalName, \n",
    "            'Location': location, \n",
    "            'Doctor': docName, \n",
    "            'Broader Specialty': broader_speciality, \n",
    "            'Specific Specialty': specific_specialities, \n",
    "            'Bio': bio\n",
    "            }\n",
    "        \n",
    "        try:\n",
    "            additionalAttributes = doc.find_elements(By.XPATH, './/div[contains(@class, \"DetailCardDoctor__DataPoint\")]')\n",
    "            \n",
    "            if (additionalAttributes):\n",
    "                for attribute in additionalAttributes:\n",
    "                    paragraphs = attribute.find_elements(By.XPATH, './/p')\n",
    "                    if paragraphs:\n",
    "                        try:\n",
    "                            if (paragraphs[1].text != '') and (paragraphs[0].text != ''):\n",
    "                                docRecord[paragraphs[1].text] = paragraphs[0].text\n",
    "                        except:\n",
    "                            pass\n",
    "        except Exception as inst:\n",
    "            #print(type(inst))    # the exception instance\n",
    "            #print(inst.args)     # arguments stored in .args\n",
    "            pass\n",
    "\n",
    "        docAllRecords.append(docRecord)\n",
    "\n",
    "\n",
    "    return docAllRecords\n"
   ]
  },
  {
   "cell_type": "markdown",
   "id": "92e2796b",
   "metadata": {},
   "source": [
    "%%time\n",
    "rounds = 1\n",
    "while(True):\n",
    "    print(f'ROUNDS={rounds}')\n",
    "    target_url = 'https://health.usnews.com/best-hospitals/area/oh/cleveland-clinic-6410670/doctors'\n",
    "    loadMainHospitalDoctorPage(driver, target_url)\n",
    "    #docDetails = extractDoctorsData(driver)\n",
    "    #docDetails\n",
    "    loadAllDoctorsPages(driver)\n",
    "    rounds += 1"
   ]
  },
  {
   "cell_type": "code",
   "execution_count": null,
   "id": "803c023a",
   "metadata": {},
   "outputs": [],
   "source": []
  },
  {
   "cell_type": "code",
   "execution_count": null,
   "id": "abc3c691",
   "metadata": {},
   "outputs": [],
   "source": [
    "%%time\n",
    "#EXCEPTION_URLS = []\n",
    "#NO_DATA_URLS = []\n",
    "allDocDetails = []\n",
    "\n",
    "for index, row in df_all_hospitals_json.iterrows():\n",
    "    # show the doctor page and that should automatically trigger chrome extension to parse page and extract results\n",
    "    target_url = row['Link']+'/doctors'\n",
    "    \n",
    "    #if (target_url in COMPLETED_URLS) or (target_url in EXCEPTION_URLS) or (target_url in NO_DATA_URLS):\n",
    "    if (target_url not in EXCEPTION_URLS):\n",
    "        continue\n",
    "    print(index, row['Hospital'])\n",
    "    try:\n",
    "        loadMainHospitalDoctorPage(driver, target_url)\n",
    "        loadAllDoctorsPages(driver)\n",
    "        docDetails = extractDoctorsData(driver)\n",
    "        \n",
    "        print(f'\\tNUM_RECORDS={len(docDetails)}')\n",
    "        \n",
    "        if len(docDetails) == 0:\n",
    "            NO_DATA_URLS.append(target_url)\n",
    "            print(f'\\tNODATA={target_url}')\n",
    "            delete_cache(driver)\n",
    "        else:\n",
    "            allDocDetails.extend(docDetails)\n",
    "            delete_cache(driver)\n",
    "    except:\n",
    "        delete_cache(driver)\n",
    "        EXCEPTION_URLS.append(target_url)\n",
    "        print(f'\\tEXCEPTION={target_url}')"
   ]
  },
  {
   "cell_type": "code",
   "execution_count": null,
   "id": "fc858782",
   "metadata": {},
   "outputs": [],
   "source": [
    "# <span class=\"message-box__Icon-sc-7sukoj-1 iVWJxw\"></span>\n",
    "# https://health.usnews.com/best-hospitals/area/mo/st-louis-university-hospital-6631020/doctors\n",
    "len(set(EXCEPTION_URLS))\n",
    "len(set(NO_DATA_URLS))\n",
    "len(allDocDetails)\n",
    "#allDocDetails"
   ]
  },
  {
   "cell_type": "code",
   "execution_count": null,
   "id": "ff2b2a34",
   "metadata": {},
   "outputs": [],
   "source": [
    "df_allDocDetails = pd.DataFrame(allDocDetails)\n",
    "df_allDocDetails.columns\n",
    "df_allDocDetails.shape\n"
   ]
  },
  {
   "cell_type": "code",
   "execution_count": null,
   "id": "35b37ddd",
   "metadata": {},
   "outputs": [],
   "source": [
    "#df_allDocDetails.to_csv(\"df_allDocDetails_Feb14_943AM.csv\", index=False)\n",
    "df_allDocDetails.to_csv(\"df_allDocDetails_Feb19_1017PM.csv\", index=False)\n",
    "with open('NO_DATA_URLS.txt', 'w') as filehandle:\n",
    "    filehandle.writelines(\"%s\\n\" % place for place in NO_DATA_URLS)\n",
    "with open('EXCEPTION_URLS.txt', 'w') as filehandle:\n",
    "    filehandle.writelines(\"%s\\n\" % place for place in EXCEPTION_URLS)"
   ]
  },
  {
   "cell_type": "code",
   "execution_count": null,
   "id": "b5184ca9",
   "metadata": {},
   "outputs": [],
   "source": [
    "# INITIALIZE\n",
    "chrome_options = Options()\n",
    "chrome_options.add_experimental_option(\"debuggerAddress\", \"127.0.0.1:9222\")\n",
    "#Change chrome driver path accordingly\n",
    "chrome_driver = \"chromedriver\"\n",
    "driver = webdriver.Chrome(chrome_driver, chrome_options=chrome_options)\n",
    "\n",
    "#time.sleep(2)\n",
    "driver.execute_script(\"window.open('');\")\n",
    "time.sleep(2)\n",
    "#driver.switch_to.window(driver.window_handles[0]) # switch back\n",
    "#time.sleep(2)\n",
    "\n",
    "#delete_cache(driver)\n",
    "#delete_cache(driver)\n",
    "\n"
   ]
  },
  {
   "cell_type": "code",
   "execution_count": null,
   "id": "7007b5c0",
   "metadata": {},
   "outputs": [],
   "source": [
    "## FIRST RUN CHROME DEBUG SESSION on TERMINAL using default profile, CLOSE EXISTING BROWSER BEFORE DOING IT\n",
    "# Google\\ Chrome --remote-debugging-port=9222 --user-data-dir=\"/Users/rajivdulepet/Library/Application Support/Google/Chrome\" \"https://google.com\"\n"
   ]
  },
  {
   "cell_type": "code",
   "execution_count": null,
   "id": "b42b746a",
   "metadata": {},
   "outputs": [],
   "source": [
    "%%time\n",
    "def wait_for_extension_data_output(temp_file):\n",
    "    # max wait time in seconds\n",
    "    MAX_WAIT_TIME = 240\n",
    "\n",
    "    timeout_counter = MAX_WAIT_TIME\n",
    "    while not path.exists(temp_file):\n",
    "        time.sleep(1)\n",
    "        timeout_counter -= 1\n",
    "        if timeout_counter == 0:\n",
    "            break\n",
    "\n",
    "    if path.isfile(temp_file):\n",
    "        # just in case wait for the file to be complete and written by extension\n",
    "        # using heuristic of 15 seconds\n",
    "        time.sleep(15)\n",
    "        return True\n",
    "    else:\n",
    "        return False\n",
    "\n",
    "# wait_for_extension_data_output(download_file)"
   ]
  },
  {
   "cell_type": "code",
   "execution_count": null,
   "id": "e35a43a2",
   "metadata": {},
   "outputs": [],
   "source": [
    "IGNORE_HOSPITALS = ['Hospital HIMA San Pablo Oncológico', \n",
    "                    'Lakeland Regional Health Medical Center', \n",
    "                    'Auxilio Mutuo Hospital', \n",
    "                    'UofL Health-Jewish Hospital', \n",
    "                    'North Memorial Health Hospital', \n",
    "                    'University Hospital-San Juan', \n",
    "                    'Hospital HIMA San Pablo Bayamon', \n",
    "                    'Doctors Center', \n",
    "                    'Albert J. Solnit Psychiatric Center-South Campus', \n",
    "                   ]\n"
   ]
  },
  {
   "cell_type": "code",
   "execution_count": null,
   "id": "736527bd",
   "metadata": {},
   "outputs": [],
   "source": [
    "driver.switch_to.window(driver.window_handles[-1])\n",
    "time.sleep(3)\n",
    "driver.get('https://health.usnews.com/best-hospitals/area/az/mayo-clinic-6860019/doctors')\n"
   ]
  },
  {
   "cell_type": "code",
   "execution_count": null,
   "id": "f22d0d68",
   "metadata": {},
   "outputs": [],
   "source": [
    "MyFile=open('IGNORE_HOSPITALS.csv','w')\n",
    "MyFile.writelines(IGNORE_HOSPITALS)\n",
    "MyFile.close()"
   ]
  },
  {
   "cell_type": "code",
   "execution_count": null,
   "id": "9c1dd90e",
   "metadata": {
    "scrolled": true
   },
   "outputs": [],
   "source": [
    "%%time\n",
    "done = False\n",
    "hit_exception = False\n",
    "\n",
    "while not done:\n",
    "    #chrome_options = Options()\n",
    "    #chrome_options.add_experimental_option(\"debuggerAddress\", \"127.0.0.1:9222\")\n",
    "    #Change chrome driver path accordingly\n",
    "    #chrome_driver = \"chromedriver\"\n",
    "    #driver = webdriver.Chrome(chrome_driver, chrome_options=chrome_options)\n",
    "\n",
    "    # https://health.usnews.com/best-hospitals/area/az/mayo-clinic-6860019/doctors\n",
    "    for index, row in df_all_hospitals_json.iterrows():\n",
    "        destination_file = row['Hospital'].replace(\"'\", '').replace('\"', '').replace('\\\\', '-').replace('/', '-')\n",
    "        destination_file = 'doctors-' + re.sub(r'\\s+', '-', destination_file)\n",
    "        destination_file = results_dir + destination_file + '.json'\n",
    "\n",
    "        # check if we processed earlier so we can continue to the next one\n",
    "        if path.exists(destination_file) and path.isfile(destination_file):\n",
    "            # then skip and move to next hospital\n",
    "            continue\n",
    "\n",
    "        # launch browser instance with different profile each time to avoid getting blocked\n",
    "        #chrome_options.add_argument('--profile-directory=Default')\n",
    "        # /Users/rajivdulepet/Library/Application Support/Google/Chrome/Default\n",
    "        #profileIndex = random.choice(range(1,MAX_USER_PROFILES+1))\n",
    "        #profileIndex = 1\n",
    "        #print(f'current browser profile = /Users/rajivdulepet/Desktop/aws/~/ChromeProfile{profileIndex}')\n",
    "        #chrome_options.add_argument(f\"user-data-dir=/Users/rajivdulepet/Desktop/aws/~/ChromeProfile{profileIndex}\") #Path to your chrome profile\n",
    "        #chrome_options.add_argument(f\"user-data-dir=/Users/rajivdulepet/Library/Application Support/Google/Chrome\") #Path to your chrome profile\n",
    "\n",
    "        #chrome_options.add_extension('/Users/rajivdulepet/Desktop/aws/sampleAppExtension/myext.zip')\n",
    "        #driver = webdriver.Chrome(\"chromedriver\", chrome_options=chrome_options)\n",
    "\n",
    "        #driver = webdriver.Chrome(chrome_driver, chrome_options=chrome_options)\n",
    "\n",
    "        if row['Hospital'] in IGNORE_HOSPITALS:\n",
    "            # skip the entry\n",
    "            #print(f'IGNORE {index}, {row[\"Hospital\"]}')\n",
    "            continue\n",
    "\n",
    "        \n",
    "        #driver.execute_script(\"window.open('');\")\n",
    "        #time.sleep(3)\n",
    "        driver.switch_to.window(driver.window_handles[-1])\n",
    "        time.sleep(2)\n",
    "        driver.get(target_url)\n",
    "        #driver.execute_script(f'''window.open(\"{target_url}\",\"_blank\");''')\n",
    "        #time.sleep(3)\n",
    "        #driver.switch_to.window(driver.window_handles[-1])\n",
    "\n",
    "        # sleep 3 minutes to finish loading and scraping of page (hopefully reasonable) and downloading results\n",
    "        #time.sleep(180)\n",
    "        # replacing with something more dynamic and quicker process\n",
    "        #if path.exists(download_file) and path.isfile(download_file):\n",
    "        if wait_for_extension_data_output(download_file):\n",
    "            driver.switch_to.window(driver.window_handles[0]) # switch back\n",
    "            time.sleep(3)\n",
    "            # move and rename file\n",
    "            shutil.move(download_file, destination_file)\n",
    "            print(f'\\tloaded and parsed {driver.title}')\n",
    "            print(f\"\\tfound {destination_file}\")\n",
    "            hit_exception = False\n",
    "            time.sleep(2)\n",
    "        else:\n",
    "            print(f'\\tGOT EXCEPTION={target_url}')\n",
    "            driver.switch_to.window(driver.window_handles[0])\n",
    "            time.sleep(2)\n",
    "            delete_cache(driver)\n",
    "            time.sleep(2)\n",
    "            IGNORE_HOSPITALS.append(row['Hospital'])\n",
    "            #raise ValueError(\"\\t\\t%s isn't a file!\" % download_file)\n",
    "            hit_exception = True\n",
    "            #break\n",
    "\n",
    "    #if not hit_exception:\n",
    "    #    done = True\n",
    "    #    hit_exception = False\n",
    "    #    break\n",
    "    break\n",
    "# sleep 1 minute\n",
    "#time.sleep(60)\n",
    "#restart driver\n",
    "driver.close()\n",
    "driver.quit()\n"
   ]
  },
  {
   "cell_type": "code",
   "execution_count": null,
   "id": "b656a0d3",
   "metadata": {},
   "outputs": [],
   "source": [
    "# https://health.usnews.com/best-hospitals/area/ga/northside-hospital-6380171/doctors"
   ]
  },
  {
   "cell_type": "code",
   "execution_count": null,
   "id": "589b9e78",
   "metadata": {},
   "outputs": [],
   "source": [
    "delete_cache()"
   ]
  },
  {
   "cell_type": "code",
   "execution_count": null,
   "id": "1fd1b8a7",
   "metadata": {},
   "outputs": [],
   "source": [
    "import webbrowser"
   ]
  },
  {
   "cell_type": "code",
   "execution_count": null,
   "id": "389dfc1c",
   "metadata": {},
   "outputs": [],
   "source": [
    "# INSPIRATION: https://pythonexamples.org/python-open-url-in-chrome-browser/\n",
    "url = 'https://health.usnews.com/best-hospitals/area/az/mayo-clinic-6860019/doctors'\n",
    "webbrowser.register('chrome', None, webbrowser.BackgroundBrowser(\"Google Chrome\"))\n",
    "webbrowser.get('chrome').open(url)\n",
    "# webbrowser.get('chrome').open_new(url)\n",
    "# https://health.usnews.com/best-hospitals/area/tn/vanderbilt-university-medical-center-6521060/doctors"
   ]
  },
  {
   "cell_type": "code",
   "execution_count": null,
   "id": "549f3908",
   "metadata": {},
   "outputs": [],
   "source": [
    "# vi ./System/Volumes/Data/Users/rajivdulepet/opt/anaconda3/pkgs/python-3.9.7-h88f2d9e_1/lib/python3.9/webbrowser.py\n",
    "# /Users/rajivdulepet/Library/Application Support/Google/Chrome/Default\n"
   ]
  },
  {
   "cell_type": "code",
   "execution_count": null,
   "id": "473f49d6",
   "metadata": {},
   "outputs": [],
   "source": []
  },
  {
   "cell_type": "code",
   "execution_count": null,
   "id": "851b4e9b",
   "metadata": {},
   "outputs": [],
   "source": []
  },
  {
   "cell_type": "code",
   "execution_count": null,
   "id": "f5e540c4",
   "metadata": {},
   "outputs": [],
   "source": [
    "# Try to open the file same file again\n",
    "try:\n",
    "    if path.exists(download_file) and path.isfile(download_file):\n",
    "        with open(download_file, \"r\") as file:\n",
    "            # Print the success message\n",
    "            print(\"File has opened for reading.\")\n",
    "    # Raise error if the file is opened before\n",
    "except IOError:\n",
    "    print(\"File has opened already.\")"
   ]
  },
  {
   "cell_type": "code",
   "execution_count": null,
   "id": "db8b6229",
   "metadata": {},
   "outputs": [],
   "source": [
    "download_file"
   ]
  },
  {
   "cell_type": "code",
   "execution_count": null,
   "id": "cf62eb84",
   "metadata": {},
   "outputs": [],
   "source": []
  }
 ],
 "metadata": {
  "kernelspec": {
   "display_name": "Python 3 (ipykernel)",
   "language": "python",
   "name": "python3"
  },
  "language_info": {
   "codemirror_mode": {
    "name": "ipython",
    "version": 3
   },
   "file_extension": ".py",
   "mimetype": "text/x-python",
   "name": "python",
   "nbconvert_exporter": "python",
   "pygments_lexer": "ipython3",
   "version": "3.9.7"
  }
 },
 "nbformat": 4,
 "nbformat_minor": 5
}
