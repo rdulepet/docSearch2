{
 "cells": [
  {
   "cell_type": "code",
   "execution_count": 1,
   "id": "ce223b70",
   "metadata": {},
   "outputs": [],
   "source": [
    "import pandas as pd\n",
    "import time\n",
    "from selenium import webdriver\n",
    "from selenium.webdriver.chrome.options import Options\n",
    "from selenium.webdriver.common.action_chains import ActionChains\n",
    "from selenium.webdriver.support.ui import WebDriverWait\n",
    "from selenium.webdriver.common.by import By\n",
    "from selenium.webdriver.support import expected_conditions as EC\n",
    "\n",
    "from selenium.webdriver.common.by import By\n",
    "\n",
    "from os import path, rename\n",
    "import shutil\n",
    "import re\n",
    "import random\n",
    "import webbrowser\n"
   ]
  },
  {
   "cell_type": "code",
   "execution_count": 2,
   "id": "600e7f8d",
   "metadata": {},
   "outputs": [],
   "source": [
    "# treat empty strings and np.nan as NAm will impact dropna method\n",
    "pd.options.mode.use_inf_as_na = True\n",
    "# set Jupyter to display all output from a cell\n",
    "from IPython.core.interactiveshell import InteractiveShell\n",
    "InteractiveShell.ast_node_interactivity = 'all'\n",
    "MAX_USER_PROFILES = 30"
   ]
  },
  {
   "cell_type": "code",
   "execution_count": null,
   "id": "85aaaf75",
   "metadata": {},
   "outputs": [],
   "source": [
    "### setup Google Chrome Driver (must match current browser version)\n",
    "# goto https://chromedriver.chromium.org/downloads and download appropriate chromedriver version\n",
    "#mv chromedriver /usr/local/bin\n",
    "#sudo chmod a+x /usr/local/bin/chromedriver\n",
    "# make it trustable\n",
    "#xattr -d com.apple.quarantine  /usr/local/bin/chromedriver\n",
    "#/usr/local/bin/chromedriver --version \n",
    "## now run it in terminal and use existing chrome profile\n",
    "# \"Google Chrome\" --remote-debugging-port=9222 --user-data-dir=\"/Users/rajivdulepet/Library/Application Support/Google/Chrome\" \"https://google.com\"\n"
   ]
  },
  {
   "cell_type": "code",
   "execution_count": 3,
   "id": "842a62f5",
   "metadata": {},
   "outputs": [],
   "source": []
  },
  {
   "cell_type": "code",
   "execution_count": 4,
   "id": "454dd21e",
   "metadata": {},
   "outputs": [
    {
     "name": "stderr",
     "output_type": "stream",
     "text": [
      "/var/folders/x9/8gyw12bj7b72_vtgyj_q2jkr0000gn/T/ipykernel_94235/2649563906.py:5: DeprecationWarning: use options instead of chrome_options\n",
      "  driver = webdriver.Chrome(chrome_driver, chrome_options=chrome_options)\n"
     ]
    }
   ],
   "source": [
    "chrome_options = Options()\n",
    "chrome_options.add_experimental_option(\"debuggerAddress\", \"127.0.0.1:9222\")\n",
    "#Change chrome driver path accordingly\n",
    "chrome_driver = \"chromedriver\"\n",
    "driver = webdriver.Chrome(chrome_driver, chrome_options=chrome_options)\n",
    "\n",
    "#time.sleep(2)\n",
    "#driver.execute_script(\"window.open('');\")\n",
    "#time.sleep(2)"
   ]
  },
  {
   "cell_type": "code",
   "execution_count": 5,
   "id": "9d2112d3",
   "metadata": {},
   "outputs": [],
   "source": [
    "def loadNCIDictionaryPage(pageDriver, url, timeout=10):\n",
    "    pageDriver.switch_to.window(pageDriver.window_handles[1])\n",
    "    time.sleep(timeout)\n",
    "    pageDriver.get(url)\n",
    "    time.sleep(timeout)\n"
   ]
  },
  {
   "cell_type": "code",
   "execution_count": 6,
   "id": "e1944b45",
   "metadata": {},
   "outputs": [],
   "source": [
    "import re\n",
    "def extractCancerTermsDefinitions(pageDriver, listStruct):\n",
    "    dictionaryTerms = pageDriver.find_elements(By.XPATH, '//*[@id=\"NCI-glossary-app-root\"]/div[2]/dl/div')\n",
    "    for term_def in dictionaryTerms:\n",
    "        #//*[@id=\"NCI-glossary-app-root\"]/div[2]/dl/div[1]/dt/dfn/a\n",
    "        term_name = term_def.find_element(By.XPATH, './/dt/dfn/a')\n",
    "        term_desc = term_def.find_element(By.XPATH, './/dd[contains(@class,\"definition\")]')\n",
    "        term_desc_text = term_desc.text\n",
    "        \n",
    "        listStruct.append({'term': term_name.text, 'definition': term_desc_text, 'url': pageDriver.current_url})\n"
   ]
  },
  {
   "cell_type": "code",
   "execution_count": 7,
   "id": "38dd9594",
   "metadata": {},
   "outputs": [],
   "source": [
    "import re\n",
    "def extractDrugTermsDefinitions(pageDriver, listStruct):\n",
    "    dictionaryTerms = pageDriver.find_elements(By.XPATH, '//*[@id=\"NCI-dd-app-root\"]/div[2]/dl/dt')\n",
    "    for term_def in dictionaryTerms:\n",
    "        #//*[@id=\"NCI-glossary-app-root\"]/div[2]/dl/div[1]/dt/dfn/a\n",
    "        term_name = term_def.find_element(By.XPATH, './/dfn/a')\n",
    "        term_desc = term_def.find_element(By.XPATH, './following-sibling::dd')\n",
    "        term_desc_text = term_desc.text\n",
    "        \n",
    "        listStruct.append({'term': term_name.text, 'definition': term_desc_text, 'url': pageDriver.current_url})\n",
    "# //*[@id=\"NCI-dd-app-root\"]/div[2]/dl/dt[1]"
   ]
  },
  {
   "cell_type": "code",
   "execution_count": 16,
   "id": "02859e2e",
   "metadata": {},
   "outputs": [
    {
     "name": "stdout",
     "output_type": "stream",
     "text": [
      "https://www.cancer.gov/publications/dictionaries/cancer-terms/expand/%23\n",
      "CPU times: user 200 ms, sys: 14.6 ms, total: 214 ms\n",
      "Wall time: 22.3 s\n"
     ]
    }
   ],
   "source": [
    "%%time\n",
    "import string\n",
    "\n",
    "#listCancerTermsDefinitions = []\n",
    "base_nci_term_def_url = 'https://www.cancer.gov/publications/dictionaries/cancer-terms/expand/'\n",
    "# last part of URL that we need to append on fly\n",
    "last_url_parts = list(string.ascii_uppercase)\n",
    "last_url_parts.append('#')\n",
    "\n",
    "target_urls = [base_nci_term_def_url + last_url_part for last_url_part in last_url_parts]\n",
    "target_urls = ['https://www.cancer.gov/publications/dictionaries/cancer-terms/expand/%23']\n",
    "\n",
    "for target_url in target_urls:\n",
    "    print(target_url)\n",
    "    loadNCIDictionaryPage(driver, target_url)\n",
    "    extractCancerTermsDefinitions(driver, listCancerTermsDefinitions)\n"
   ]
  },
  {
   "cell_type": "code",
   "execution_count": 14,
   "id": "a2b5239d",
   "metadata": {},
   "outputs": [
    {
     "name": "stdout",
     "output_type": "stream",
     "text": [
      "https://www.cancer.gov/publications/dictionaries/cancer-drug/expand/%23\n",
      "CPU times: user 131 ms, sys: 11.7 ms, total: 143 ms\n",
      "Wall time: 42.3 s\n"
     ]
    }
   ],
   "source": [
    "%%time\n",
    "import string\n",
    "\n",
    "#listCancerDrugDefinitions = []\n",
    "base_nci_term_def_url = 'https://www.cancer.gov/publications/dictionaries/cancer-drug/expand/'\n",
    "# last part of URL that we need to append on fly\n",
    "last_url_parts = list(string.ascii_uppercase)\n",
    "last_url_parts.append('#')\n",
    "\n",
    "target_urls = [base_nci_term_def_url + last_url_part for last_url_part in last_url_parts]\n",
    "target_urls = ['https://www.cancer.gov/publications/dictionaries/cancer-drug/expand/%23']\n",
    "\n",
    "for target_url in target_urls:\n",
    "    print(target_url)\n",
    "    loadNCIDictionaryPage(driver, target_url, 20)\n",
    "    extractDrugTermsDefinitions(driver, listCancerDrugDefinitions)\n"
   ]
  },
  {
   "cell_type": "code",
   "execution_count": 17,
   "id": "972febf1",
   "metadata": {},
   "outputs": [
    {
     "data": {
      "text/plain": [
       "9066"
      ]
     },
     "execution_count": 17,
     "metadata": {},
     "output_type": "execute_result"
    },
    {
     "data": {
      "text/plain": [
       "9053"
      ]
     },
     "execution_count": 17,
     "metadata": {},
     "output_type": "execute_result"
    }
   ],
   "source": [
    "len(listCancerDrugDefinitions)\n",
    "len(listCancerTermsDefinitions)"
   ]
  },
  {
   "cell_type": "code",
   "execution_count": 19,
   "id": "dc7ed763",
   "metadata": {},
   "outputs": [
    {
     "data": {
      "text/plain": [
       "Index(['term', 'definition', 'url'], dtype='object')"
      ]
     },
     "execution_count": 19,
     "metadata": {},
     "output_type": "execute_result"
    },
    {
     "data": {
      "text/plain": [
       "(9066, 3)"
      ]
     },
     "execution_count": 19,
     "metadata": {},
     "output_type": "execute_result"
    },
    {
     "data": {
      "text/plain": [
       "Index(['term', 'definition', 'url'], dtype='object')"
      ]
     },
     "execution_count": 19,
     "metadata": {},
     "output_type": "execute_result"
    },
    {
     "data": {
      "text/plain": [
       "(9053, 3)"
      ]
     },
     "execution_count": 19,
     "metadata": {},
     "output_type": "execute_result"
    }
   ],
   "source": [
    "dfCancerDrugDefinitions = pd.DataFrame(listCancerDrugDefinitions)\n",
    "dfCancerTermsDefinitions = pd.DataFrame(listCancerTermsDefinitions)\n",
    "dfCancerDrugDefinitions.columns\n",
    "dfCancerDrugDefinitions.shape\n",
    "dfCancerTermsDefinitions.columns\n",
    "dfCancerTermsDefinitions.shape"
   ]
  },
  {
   "cell_type": "code",
   "execution_count": 21,
   "id": "bec6f6a9",
   "metadata": {},
   "outputs": [
    {
     "data": {
      "text/plain": [
       "array(['https://www.cancer.gov/publications/dictionaries/cancer-drug/expand/A',\n",
       "       'https://www.cancer.gov/publications/dictionaries/cancer-drug/expand/B',\n",
       "       'https://www.cancer.gov/publications/dictionaries/cancer-drug/expand/C',\n",
       "       'https://www.cancer.gov/publications/dictionaries/cancer-drug/expand/D',\n",
       "       'https://www.cancer.gov/publications/dictionaries/cancer-drug/expand/E',\n",
       "       'https://www.cancer.gov/publications/dictionaries/cancer-drug/expand/F',\n",
       "       'https://www.cancer.gov/publications/dictionaries/cancer-drug/expand/G',\n",
       "       'https://www.cancer.gov/publications/dictionaries/cancer-drug/expand/H',\n",
       "       'https://www.cancer.gov/publications/dictionaries/cancer-drug/expand/I',\n",
       "       'https://www.cancer.gov/publications/dictionaries/cancer-drug/expand/J',\n",
       "       'https://www.cancer.gov/publications/dictionaries/cancer-drug/expand/K',\n",
       "       'https://www.cancer.gov/publications/dictionaries/cancer-drug/expand/L',\n",
       "       'https://www.cancer.gov/publications/dictionaries/cancer-drug/expand/M',\n",
       "       'https://www.cancer.gov/publications/dictionaries/cancer-drug/expand/N',\n",
       "       'https://www.cancer.gov/publications/dictionaries/cancer-drug/expand/O',\n",
       "       'https://www.cancer.gov/publications/dictionaries/cancer-drug/expand/P',\n",
       "       'https://www.cancer.gov/publications/dictionaries/cancer-drug/expand/Q',\n",
       "       'https://www.cancer.gov/publications/dictionaries/cancer-drug/expand/R',\n",
       "       'https://www.cancer.gov/publications/dictionaries/cancer-drug/expand/S',\n",
       "       'https://www.cancer.gov/publications/dictionaries/cancer-drug/expand/T',\n",
       "       'https://www.cancer.gov/publications/dictionaries/cancer-drug/expand/U',\n",
       "       'https://www.cancer.gov/publications/dictionaries/cancer-drug/expand/V',\n",
       "       'https://www.cancer.gov/publications/dictionaries/cancer-drug/expand/W',\n",
       "       'https://www.cancer.gov/publications/dictionaries/cancer-drug/expand/X',\n",
       "       'https://www.cancer.gov/publications/dictionaries/cancer-drug/expand/Y',\n",
       "       'https://www.cancer.gov/publications/dictionaries/cancer-drug/expand/Z',\n",
       "       'https://www.cancer.gov/publications/dictionaries/cancer-drug/expand/%23'],\n",
       "      dtype=object)"
      ]
     },
     "execution_count": 21,
     "metadata": {},
     "output_type": "execute_result"
    }
   ],
   "source": [
    "dfCancerDrugDefinitions['url'].unique()"
   ]
  },
  {
   "cell_type": "code",
   "execution_count": 22,
   "id": "885261a0",
   "metadata": {},
   "outputs": [],
   "source": [
    "dfCancerDrugDefinitions.to_csv('dfCancerDrugDefinitions.csv', index=False)\n",
    "dfCancerTermsDefinitions.to_csv('dfCancerTermsDefinitions.csv', index=False)"
   ]
  },
  {
   "cell_type": "code",
   "execution_count": 25,
   "id": "c5344849",
   "metadata": {},
   "outputs": [
    {
     "data": {
      "text/html": [
       "<div>\n",
       "<style scoped>\n",
       "    .dataframe tbody tr th:only-of-type {\n",
       "        vertical-align: middle;\n",
       "    }\n",
       "\n",
       "    .dataframe tbody tr th {\n",
       "        vertical-align: top;\n",
       "    }\n",
       "\n",
       "    .dataframe thead th {\n",
       "        text-align: right;\n",
       "    }\n",
       "</style>\n",
       "<table border=\"1\" class=\"dataframe\">\n",
       "  <thead>\n",
       "    <tr style=\"text-align: right;\">\n",
       "      <th></th>\n",
       "      <th>term</th>\n",
       "      <th>definition</th>\n",
       "      <th>url</th>\n",
       "    </tr>\n",
       "  </thead>\n",
       "  <tbody>\n",
       "    <tr>\n",
       "      <th>2451</th>\n",
       "      <td>early-stage cancer</td>\n",
       "      <td>A term used to describe cancer that is early i...</td>\n",
       "      <td>https://www.cancer.gov/publications/dictionari...</td>\n",
       "    </tr>\n",
       "    <tr>\n",
       "      <th>6019</th>\n",
       "      <td>pegfilgrastim</td>\n",
       "      <td>A drug that is a form of filgrastim and is use...</td>\n",
       "      <td>https://www.cancer.gov/publications/dictionari...</td>\n",
       "    </tr>\n",
       "    <tr>\n",
       "      <th>8710</th>\n",
       "      <td>vincristine sulfate</td>\n",
       "      <td>A drug used to treat acute leukemia and is som...</td>\n",
       "      <td>https://www.cancer.gov/publications/dictionari...</td>\n",
       "    </tr>\n",
       "    <tr>\n",
       "      <th>2952</th>\n",
       "      <td>fexofenadine</td>\n",
       "      <td>A drug used to treat certain allergy symptoms....</td>\n",
       "      <td>https://www.cancer.gov/publications/dictionari...</td>\n",
       "    </tr>\n",
       "    <tr>\n",
       "      <th>2343</th>\n",
       "      <td>docetaxel-cisplatin-fluorouracil</td>\n",
       "      <td>A chemotherapy combination used to treat certa...</td>\n",
       "      <td>https://www.cancer.gov/publications/dictionari...</td>\n",
       "    </tr>\n",
       "  </tbody>\n",
       "</table>\n",
       "</div>"
      ],
      "text/plain": [
       "                                  term  \\\n",
       "2451                early-stage cancer   \n",
       "6019                     pegfilgrastim   \n",
       "8710               vincristine sulfate   \n",
       "2952                      fexofenadine   \n",
       "2343  docetaxel-cisplatin-fluorouracil   \n",
       "\n",
       "                                             definition  \\\n",
       "2451  A term used to describe cancer that is early i...   \n",
       "6019  A drug that is a form of filgrastim and is use...   \n",
       "8710  A drug used to treat acute leukemia and is som...   \n",
       "2952  A drug used to treat certain allergy symptoms....   \n",
       "2343  A chemotherapy combination used to treat certa...   \n",
       "\n",
       "                                                    url  \n",
       "2451  https://www.cancer.gov/publications/dictionari...  \n",
       "6019  https://www.cancer.gov/publications/dictionari...  \n",
       "8710  https://www.cancer.gov/publications/dictionari...  \n",
       "2952  https://www.cancer.gov/publications/dictionari...  \n",
       "2343  https://www.cancer.gov/publications/dictionari...  "
      ]
     },
     "execution_count": 25,
     "metadata": {},
     "output_type": "execute_result"
    }
   ],
   "source": [
    "dfCancerTermsDefinitions.sample(5)"
   ]
  },
  {
   "cell_type": "code",
   "execution_count": 34,
   "id": "6a9f95de",
   "metadata": {},
   "outputs": [
    {
     "data": {
      "text/html": [
       "<div>\n",
       "<style scoped>\n",
       "    .dataframe tbody tr th:only-of-type {\n",
       "        vertical-align: middle;\n",
       "    }\n",
       "\n",
       "    .dataframe tbody tr th {\n",
       "        vertical-align: top;\n",
       "    }\n",
       "\n",
       "    .dataframe thead th {\n",
       "        text-align: right;\n",
       "    }\n",
       "</style>\n",
       "<table border=\"1\" class=\"dataframe\">\n",
       "  <thead>\n",
       "    <tr style=\"text-align: right;\">\n",
       "      <th></th>\n",
       "      <th>term</th>\n",
       "      <th>definition</th>\n",
       "      <th>url</th>\n",
       "    </tr>\n",
       "  </thead>\n",
       "  <tbody>\n",
       "    <tr>\n",
       "      <th>172</th>\n",
       "      <td>adrenal medulla</td>\n",
       "      <td>The inner part of the adrenal gland (a small o...</td>\n",
       "      <td>https://www.cancer.gov/publications/dictionari...</td>\n",
       "    </tr>\n",
       "    <tr>\n",
       "      <th>2863</th>\n",
       "      <td>extramedullary myeloid tumor</td>\n",
       "      <td>A rare type of cancer that is made up of myelo...</td>\n",
       "      <td>https://www.cancer.gov/publications/dictionari...</td>\n",
       "    </tr>\n",
       "    <tr>\n",
       "      <th>2902</th>\n",
       "      <td>familial medullary thyroid cancer</td>\n",
       "      <td>An inherited form of medullary thyroid cancer ...</td>\n",
       "      <td>https://www.cancer.gov/publications/dictionari...</td>\n",
       "    </tr>\n",
       "    <tr>\n",
       "      <th>4853</th>\n",
       "      <td>medullary breast carcinoma</td>\n",
       "      <td>A rare type of breast cancer that often can be...</td>\n",
       "      <td>https://www.cancer.gov/publications/dictionari...</td>\n",
       "    </tr>\n",
       "    <tr>\n",
       "      <th>4854</th>\n",
       "      <td>medullary thyroid cancer</td>\n",
       "      <td>Cancer that develops in C cells of the thyroid...</td>\n",
       "      <td>https://www.cancer.gov/publications/dictionari...</td>\n",
       "    </tr>\n",
       "    <tr>\n",
       "      <th>4855</th>\n",
       "      <td>medulloblastoma</td>\n",
       "      <td>A fast-growing type of cancer that forms in th...</td>\n",
       "      <td>https://www.cancer.gov/publications/dictionari...</td>\n",
       "    </tr>\n",
       "    <tr>\n",
       "      <th>7541</th>\n",
       "      <td>stage I medullary thyroid cancer</td>\n",
       "      <td>Cancer is found in the thyroid only and the tu...</td>\n",
       "      <td>https://www.cancer.gov/publications/dictionari...</td>\n",
       "    </tr>\n",
       "    <tr>\n",
       "      <th>7601</th>\n",
       "      <td>stage II medullary thyroid cancer</td>\n",
       "      <td>One of the following is found: (1) cancer is f...</td>\n",
       "      <td>https://www.cancer.gov/publications/dictionari...</td>\n",
       "    </tr>\n",
       "    <tr>\n",
       "      <th>7663</th>\n",
       "      <td>stage III medullary thyroid cancer</td>\n",
       "      <td>The tumor is any size and cancer may have spre...</td>\n",
       "      <td>https://www.cancer.gov/publications/dictionari...</td>\n",
       "    </tr>\n",
       "    <tr>\n",
       "      <th>7729</th>\n",
       "      <td>stage IV medullary thyroid cancer</td>\n",
       "      <td>Stage IV is divided into stages IVA, IVB, and ...</td>\n",
       "      <td>https://www.cancer.gov/publications/dictionari...</td>\n",
       "    </tr>\n",
       "  </tbody>\n",
       "</table>\n",
       "</div>"
      ],
      "text/plain": [
       "                                    term  \\\n",
       "172                      adrenal medulla   \n",
       "2863        extramedullary myeloid tumor   \n",
       "2902   familial medullary thyroid cancer   \n",
       "4853          medullary breast carcinoma   \n",
       "4854            medullary thyroid cancer   \n",
       "4855                     medulloblastoma   \n",
       "7541    stage I medullary thyroid cancer   \n",
       "7601   stage II medullary thyroid cancer   \n",
       "7663  stage III medullary thyroid cancer   \n",
       "7729   stage IV medullary thyroid cancer   \n",
       "\n",
       "                                             definition  \\\n",
       "172   The inner part of the adrenal gland (a small o...   \n",
       "2863  A rare type of cancer that is made up of myelo...   \n",
       "2902  An inherited form of medullary thyroid cancer ...   \n",
       "4853  A rare type of breast cancer that often can be...   \n",
       "4854  Cancer that develops in C cells of the thyroid...   \n",
       "4855  A fast-growing type of cancer that forms in th...   \n",
       "7541  Cancer is found in the thyroid only and the tu...   \n",
       "7601  One of the following is found: (1) cancer is f...   \n",
       "7663  The tumor is any size and cancer may have spre...   \n",
       "7729  Stage IV is divided into stages IVA, IVB, and ...   \n",
       "\n",
       "                                                    url  \n",
       "172   https://www.cancer.gov/publications/dictionari...  \n",
       "2863  https://www.cancer.gov/publications/dictionari...  \n",
       "2902  https://www.cancer.gov/publications/dictionari...  \n",
       "4853  https://www.cancer.gov/publications/dictionari...  \n",
       "4854  https://www.cancer.gov/publications/dictionari...  \n",
       "4855  https://www.cancer.gov/publications/dictionari...  \n",
       "7541  https://www.cancer.gov/publications/dictionari...  \n",
       "7601  https://www.cancer.gov/publications/dictionari...  \n",
       "7663  https://www.cancer.gov/publications/dictionari...  \n",
       "7729  https://www.cancer.gov/publications/dictionari...  "
      ]
     },
     "execution_count": 34,
     "metadata": {},
     "output_type": "execute_result"
    }
   ],
   "source": [
    "dfCancerTermsDefinitions[dfCancerTermsDefinitions.term.str.contains('medull')]"
   ]
  },
  {
   "cell_type": "code",
   "execution_count": 33,
   "id": "e57a27c5",
   "metadata": {},
   "outputs": [
    {
     "data": {
      "text/plain": [
       "array(['The inner part of the adrenal gland (a small organ on top of each kidney). The adrenal medulla makes chemicals such as epinephrine (adrenaline) and norepinephrine (noradrenaline) which are involved in sending nerve signals.'],\n",
       "      dtype=object)"
      ]
     },
     "execution_count": 33,
     "metadata": {},
     "output_type": "execute_result"
    }
   ],
   "source": [
    "dfCancerTermsDefinitions[dfCancerTermsDefinitions.term.str.contains('adrenal medulla')]['definition'].values"
   ]
  },
  {
   "cell_type": "code",
   "execution_count": null,
   "id": "5abfb01a",
   "metadata": {},
   "outputs": [],
   "source": []
  }
 ],
 "metadata": {
  "kernelspec": {
   "display_name": "Python 3 (ipykernel)",
   "language": "python",
   "name": "python3"
  },
  "language_info": {
   "codemirror_mode": {
    "name": "ipython",
    "version": 3
   },
   "file_extension": ".py",
   "mimetype": "text/x-python",
   "name": "python",
   "nbconvert_exporter": "python",
   "pygments_lexer": "ipython3",
   "version": "3.9.7"
  }
 },
 "nbformat": 4,
 "nbformat_minor": 5
}
